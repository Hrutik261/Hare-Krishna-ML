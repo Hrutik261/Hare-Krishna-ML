{
  "nbformat": 4,
  "nbformat_minor": 0,
  "metadata": {
    "colab": {
      "provenance": []
    },
    "kernelspec": {
      "name": "python3",
      "display_name": "Python 3"
    },
    "language_info": {
      "name": "python"
    }
  },
  "cells": [
    {
      "cell_type": "code",
      "execution_count": null,
      "metadata": {
        "colab": {
          "base_uri": "https://localhost:8080/"
        },
        "id": "Rc9QGKUjiU6R",
        "outputId": "3ed45f13-cc3a-48a2-f83e-ef8e20eac1ed"
      },
      "outputs": [
        {
          "output_type": "stream",
          "name": "stdout",
          "text": [
            "Hare Krishna\n"
          ]
        }
      ],
      "source": [
        "print(\"Hare Krishna\")"
      ]
    },
    {
      "cell_type": "markdown",
      "source": [
        "Hare Krishna"
      ],
      "metadata": {
        "id": "gDBNqpseiXfD"
      }
    },
    {
      "cell_type": "code",
      "source": [
        "import numpy as np\n",
        "import pandas as pd\n",
        "from sklearn.linear_model import LogisticRegression"
      ],
      "metadata": {
        "id": "Ki-SrUkliie5"
      },
      "execution_count": null,
      "outputs": []
    },
    {
      "cell_type": "code",
      "source": [
        "train = pd.read_csv(\"/content/train.csv\",header=None)\n",
        "test = pd.read_csv(\"/content/test.csv\",header=None)\n",
        "labels = pd.read_csv(\"/content/trainLabels.csv\",header=None)\n",
        "\n",
        "#merging train and labels\n",
        "train['labels'] = labels\n",
        "train = train.drop(columns = 'labels')\n",
        "\n",
        "# Generate column names (1, 2, 3, ..., n) where n is the number of features\n",
        "num_features = train.shape[1]\n",
        "column_names = list(range(1, num_features + 1))\n",
        "\n",
        "# Assign column names to the training and testing data\n",
        "train.columns = column_names\n",
        "test.columns = column_names"
      ],
      "metadata": {
        "id": "y4Rxc6BxsJ01"
      },
      "execution_count": 22,
      "outputs": []
    },
    {
      "cell_type": "code",
      "source": [
        "X_train = train\n",
        "y_train = labels\n",
        "\n",
        "X_test = test\n",
        "#initialize model\n",
        "model = LogisticRegression(max_iter=1000)\n",
        "\n",
        "# training the model\n",
        "model.fit(X_train, y_train)\n",
        "y_pred = model.predict(X_test)"
      ],
      "metadata": {
        "colab": {
          "base_uri": "https://localhost:8080/"
        },
        "id": "kJkXf6JQwC7w",
        "outputId": "94b359e8-4a28-4b3c-8585-cc93874c3aa3"
      },
      "execution_count": 23,
      "outputs": [
        {
          "output_type": "stream",
          "name": "stderr",
          "text": [
            "/usr/local/lib/python3.10/dist-packages/sklearn/utils/validation.py:1143: DataConversionWarning: A column-vector y was passed when a 1d array was expected. Please change the shape of y to (n_samples, ), for example using ravel().\n",
            "  y = column_or_1d(y, warn=True)\n"
          ]
        }
      ]
    },
    {
      "cell_type": "code",
      "source": [
        "# Prepare the output as specified in question\n",
        "output = pd.DataFrame({\n",
        "    'Id': np.arange(1, len(y_pred) + 1),\n",
        "    'Solution': y_pred\n",
        "})\n",
        "\n",
        "# Save to CSV\n",
        "output.to_csv('predictions.csv', index=False)\n",
        "print(\"Predictions saved to predictions.csv\")"
      ],
      "metadata": {
        "colab": {
          "base_uri": "https://localhost:8080/"
        },
        "id": "3qDREsZs3Ucq",
        "outputId": "37d15a0e-6f81-4cbb-d0fa-95bf36d8dc06"
      },
      "execution_count": 24,
      "outputs": [
        {
          "output_type": "stream",
          "name": "stdout",
          "text": [
            "Predictions saved to predictions.csv\n"
          ]
        }
      ]
    }
  ]
}